{
 "cells": [
  {
   "cell_type": "markdown",
   "id": "9d481ce6",
   "metadata": {},
   "source": [
    "# 9. Data Augmentation"
   ]
  },
  {
   "cell_type": "code",
   "execution_count": 1,
   "id": "02e8074e",
   "metadata": {},
   "outputs": [],
   "source": [
    "import numpy as np\n",
    "import tensorflow as tf\n",
    "from tensorflow import keras\n",
    "from tensorflow.keras import layers\n",
    "from tensorflow.keras.preprocessing.image import ImageDataGenerator"
   ]
  },
  {
   "cell_type": "code",
   "execution_count": 2,
   "id": "d3eeb5e6",
   "metadata": {},
   "outputs": [],
   "source": [
    "model = keras.Sequential(\n",
    "    [\n",
    "        layers.Conv2D(32, (3, 3), activation=\"relu\", padding=\"same\", input_shape=(28, 28, 1)),\n",
    "        layers.MaxPool2D(pool_size=(2, 2)),\n",
    "        layers.Flatten(),\n",
    "        layers.Dense(10, activation=\"softmax\"),\n",
    "    ]\n",
    ")"
   ]
  },
  {
   "cell_type": "code",
   "execution_count": 3,
   "id": "7713f090",
   "metadata": {},
   "outputs": [],
   "source": [
    "(x_train, y_train), (x_test, y_test) = keras.datasets.mnist.load_data()\n",
    "\n",
    "# Scale the images to the range [0, 1] range\n",
    "x_train = x_train.astype(\"float32\") / 255\n",
    "x_test = x_test.astype(\"float32\") / 255\n",
    "\n",
    "# Add a channel dimension to the images\n",
    "x_train = np.expand_dims(x_train, -1)\n",
    "x_test = np.expand_dims(x_test, -1)\n",
    "\n",
    "# Split the training set into training and validation sets\n",
    "x_train, x_val = x_train[: 50000], x_train[50000:]\n",
    "y_train, y_val = y_train[: 50000], y_train[50000:]"
   ]
  },
  {
   "cell_type": "code",
   "execution_count": 4,
   "id": "9a027445",
   "metadata": {},
   "outputs": [],
   "source": [
    "datagen = ImageDataGenerator(\n",
    "    rotation_range = 10,\n",
    "    zoom_range = 0.1,\n",
    "    width_shift_range = 0.1,\n",
    "    height_shift_range= 0.1,\n",
    "    shear_range= 0.1,\n",
    "    horizontal_flip= False,\n",
    "    vertical_flip= False,\n",
    ")"
   ]
  },
  {
   "cell_type": "code",
   "execution_count": 5,
   "id": "9f5dcbc5",
   "metadata": {},
   "outputs": [
    {
     "name": "stdout",
     "output_type": "stream",
     "text": [
      "Epoch 1/5\n",
      "1563/1563 [==============================] - 7s 4ms/step - loss: 0.2294 - accuracy: 0.9342 - val_loss: 0.0911 - val_accuracy: 0.9767\n",
      "Epoch 2/5\n",
      "1563/1563 [==============================] - 7s 4ms/step - loss: 0.0843 - accuracy: 0.9754 - val_loss: 0.0723 - val_accuracy: 0.9795\n",
      "Epoch 3/5\n",
      "1563/1563 [==============================] - 7s 4ms/step - loss: 0.0628 - accuracy: 0.9815 - val_loss: 0.0732 - val_accuracy: 0.9796\n",
      "Epoch 4/5\n",
      "1563/1563 [==============================] - 7s 4ms/step - loss: 0.0523 - accuracy: 0.9845 - val_loss: 0.0648 - val_accuracy: 0.9819\n",
      "Epoch 5/5\n",
      "1563/1563 [==============================] - 7s 4ms/step - loss: 0.0440 - accuracy: 0.9869 - val_loss: 0.0622 - val_accuracy: 0.9827\n",
      "Epoch 1/5\n",
      "1563/1563 [==============================] - 9s 5ms/step - loss: 0.3062 - accuracy: 0.9095 - val_loss: 0.1185 - val_accuracy: 0.9634\n",
      "Epoch 2/5\n",
      "1563/1563 [==============================] - 9s 5ms/step - loss: 0.2103 - accuracy: 0.9371 - val_loss: 0.1118 - val_accuracy: 0.9674\n",
      "Epoch 3/5\n",
      "1563/1563 [==============================] - 8s 5ms/step - loss: 0.1855 - accuracy: 0.9448 - val_loss: 0.1276 - val_accuracy: 0.9628\n",
      "Epoch 4/5\n",
      "1563/1563 [==============================] - 8s 5ms/step - loss: 0.1678 - accuracy: 0.9489 - val_loss: 0.1089 - val_accuracy: 0.9690\n",
      "Epoch 5/5\n",
      "1563/1563 [==============================] - 9s 5ms/step - loss: 0.1517 - accuracy: 0.9532 - val_loss: 0.0892 - val_accuracy: 0.9734\n"
     ]
    }
   ],
   "source": [
    "# Without data augmentation\n",
    "model.compile(loss=\"sparse_categorical_crossentropy\", optimizer=\"adam\", metrics=[\"accuracy\"])\n",
    "history1=model.fit(x_train, y_train, batch_size=32, epochs=5, validation_data=(x_val, y_val))\n",
    "\n",
    "model.compile(loss=\"sparse_categorical_crossentropy\", optimizer=\"adam\", metrics=[\"accuracy\"])\n",
    "history2=model.fit(datagen.flow(x_train, y_train, batch_size=32), epochs=5, validation_data=(x_val, y_val))"
   ]
  },
  {
   "cell_type": "code",
   "execution_count": 6,
   "id": "5e54287f",
   "metadata": {},
   "outputs": [
    {
     "name": "stdout",
     "output_type": "stream",
     "text": [
      "313/313 [==============================] - 1s 2ms/step - loss: 0.0771 - accuracy: 0.9759\n",
      "313/313 [==============================] - 1s 2ms/step - loss: 0.0771 - accuracy: 0.9759\n"
     ]
    },
    {
     "data": {
      "text/plain": [
       "[0.07708867639303207, 0.9758999943733215]"
      ]
     },
     "execution_count": 6,
     "metadata": {},
     "output_type": "execute_result"
    }
   ],
   "source": [
    "# Without data augmentation\n",
    "model.evaluate(x_test, y_test)\n",
    "    \n",
    "# With data augmentation\n",
    "model.evaluate(x_test, y_test)    "
   ]
  },
  {
   "cell_type": "code",
   "execution_count": null,
   "id": "0518c7b3",
   "metadata": {},
   "outputs": [],
   "source": []
  }
 ],
 "metadata": {
  "kernelspec": {
   "display_name": "Python 3 (ipykernel)",
   "language": "python",
   "name": "python3"
  },
  "language_info": {
   "codemirror_mode": {
    "name": "ipython",
    "version": 3
   },
   "file_extension": ".py",
   "mimetype": "text/x-python",
   "name": "python",
   "nbconvert_exporter": "python",
   "pygments_lexer": "ipython3",
   "version": "3.9.17"
  }
 },
 "nbformat": 4,
 "nbformat_minor": 5
}
