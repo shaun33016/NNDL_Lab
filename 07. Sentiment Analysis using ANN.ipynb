{
 "cells": [
  {
   "cell_type": "code",
   "execution_count": 1,
   "id": "51438dd9",
   "metadata": {},
   "outputs": [],
   "source": [
    "import pandas as pd\n",
    "import numpy as np\n",
    "import tensorflow as tf\n",
    "from tensorflow import keras\n",
    "from sklearn.model_selection import train_test_split\n",
    "from sklearn.preprocessing import LabelEncoder\n",
    "from sklearn.feature_extraction.text import TfidfVectorizer"
   ]
  },
  {
   "cell_type": "code",
   "execution_count": 9,
   "id": "f9adbd24",
   "metadata": {},
   "outputs": [
    {
     "data": {
      "text/html": [
       "<div>\n",
       "<style scoped>\n",
       "    .dataframe tbody tr th:only-of-type {\n",
       "        vertical-align: middle;\n",
       "    }\n",
       "\n",
       "    .dataframe tbody tr th {\n",
       "        vertical-align: top;\n",
       "    }\n",
       "\n",
       "    .dataframe thead th {\n",
       "        text-align: right;\n",
       "    }\n",
       "</style>\n",
       "<table border=\"1\" class=\"dataframe\">\n",
       "  <thead>\n",
       "    <tr style=\"text-align: right;\">\n",
       "      <th></th>\n",
       "      <th>Index</th>\n",
       "      <th>message to examine</th>\n",
       "      <th>label (depression result)</th>\n",
       "    </tr>\n",
       "  </thead>\n",
       "  <tbody>\n",
       "    <tr>\n",
       "      <th>0</th>\n",
       "      <td>106</td>\n",
       "      <td>just had a real good moment. i missssssssss hi...</td>\n",
       "      <td>0</td>\n",
       "    </tr>\n",
       "    <tr>\n",
       "      <th>1</th>\n",
       "      <td>217</td>\n",
       "      <td>is reading manga  http://plurk.com/p/mzp1e</td>\n",
       "      <td>0</td>\n",
       "    </tr>\n",
       "    <tr>\n",
       "      <th>2</th>\n",
       "      <td>220</td>\n",
       "      <td>@comeagainjen http://twitpic.com/2y2lx - http:...</td>\n",
       "      <td>0</td>\n",
       "    </tr>\n",
       "    <tr>\n",
       "      <th>3</th>\n",
       "      <td>288</td>\n",
       "      <td>@lapcat Need to send 'em to my accountant tomo...</td>\n",
       "      <td>0</td>\n",
       "    </tr>\n",
       "    <tr>\n",
       "      <th>4</th>\n",
       "      <td>540</td>\n",
       "      <td>ADD ME ON MYSPACE!!!  myspace.com/LookThunder</td>\n",
       "      <td>0</td>\n",
       "    </tr>\n",
       "  </tbody>\n",
       "</table>\n",
       "</div>"
      ],
      "text/plain": [
       "   Index  ... label (depression result)\n",
       "0    106  ...                         0\n",
       "1    217  ...                         0\n",
       "2    220  ...                         0\n",
       "3    288  ...                         0\n",
       "4    540  ...                         0\n",
       "\n",
       "[5 rows x 3 columns]"
      ]
     },
     "execution_count": 9,
     "metadata": {},
     "output_type": "execute_result"
    }
   ],
   "source": [
    "df = pd.read_csv('sentiment.csv')\n",
    "df.head()"
   ]
  },
  {
   "cell_type": "code",
   "execution_count": 10,
   "id": "8ab2c3c7",
   "metadata": {},
   "outputs": [
    {
     "data": {
      "text/plain": [
       "Index                        0\n",
       "message to examine           0\n",
       "label (depression result)    0\n",
       "dtype: int64"
      ]
     },
     "execution_count": 10,
     "metadata": {},
     "output_type": "execute_result"
    }
   ],
   "source": [
    "# Checking for Missing Values\n",
    "df.isnull().sum()"
   ]
  },
  {
   "cell_type": "code",
   "execution_count": 12,
   "id": "f2b5bb23",
   "metadata": {},
   "outputs": [],
   "source": [
    "# Encoding using TfidfVectorizer\n",
    "tfidf_vecortizer =TfidfVectorizer(max_features=5000)\n",
    "x = tfidf_vecortizer.fit_transform(df['message to examine'])\n",
    "y = df['label (depression result)']"
   ]
  },
  {
   "cell_type": "code",
   "execution_count": 13,
   "id": "832723de",
   "metadata": {},
   "outputs": [],
   "source": [
    "# Convert the sparse TF-IDF Matrix to a Dense NumPy array\n",
    "x = x.toarray()"
   ]
  },
  {
   "cell_type": "code",
   "execution_count": 14,
   "id": "d91a9f65",
   "metadata": {},
   "outputs": [],
   "source": [
    "# Dataset into Training and Testing Sets\n",
    "x_train , x_test , y_train , y_test = train_test_split(x,y,test_size=0.2 , random_state=42)"
   ]
  },
  {
   "cell_type": "code",
   "execution_count": 17,
   "id": "87d453e9",
   "metadata": {},
   "outputs": [],
   "source": [
    "# Building the Artificial Neural Network (ANN) Model\n",
    "model = keras.Sequential([\n",
    "    keras.layers.Dense(32 , activation='relu' , input_shape=(x_train.shape[1],)),\n",
    "    keras.layers.Dense(64 , activation='relu'),\n",
    "    keras.layers.Dense(128 , activation='relu'),\n",
    "    keras.layers.Dense(256 , activation='relu'),\n",
    "    keras.layers.Dense(64 , activation='relu'),\n",
    "    keras.layers.Dense(1 , activation='sigmoid'),\n",
    "])"
   ]
  },
  {
   "cell_type": "code",
   "execution_count": 18,
   "id": "46424c9c",
   "metadata": {},
   "outputs": [],
   "source": [
    "# Compile the Model\n",
    "model.compile(optimizer='adam' , loss='binary_crossentropy' , metrics=['accuracy'])"
   ]
  },
  {
   "cell_type": "code",
   "execution_count": 20,
   "id": "02e09071",
   "metadata": {},
   "outputs": [
    {
     "name": "stdout",
     "output_type": "stream",
     "text": [
      "Epoch 1/5\n",
      "258/258 [==============================] - 1s 3ms/step - loss: 0.2259 - accuracy: 0.9029 - val_loss: 0.0707 - val_accuracy: 0.9777\n",
      "Epoch 2/5\n",
      "258/258 [==============================] - 1s 2ms/step - loss: 0.0158 - accuracy: 0.9955 - val_loss: 0.0771 - val_accuracy: 0.9772\n",
      "Epoch 3/5\n",
      "258/258 [==============================] - 1s 2ms/step - loss: 0.0032 - accuracy: 0.9993 - val_loss: 0.0756 - val_accuracy: 0.9801\n",
      "Epoch 4/5\n",
      "258/258 [==============================] - 1s 2ms/step - loss: 0.0024 - accuracy: 0.9998 - val_loss: 0.0793 - val_accuracy: 0.9811\n",
      "Epoch 5/5\n",
      "258/258 [==============================] - 1s 2ms/step - loss: 0.0023 - accuracy: 0.9998 - val_loss: 0.0934 - val_accuracy: 0.9830\n"
     ]
    },
    {
     "data": {
      "text/plain": [
       "<keras.src.callbacks.History at 0x1a0a50d4b20>"
      ]
     },
     "execution_count": 20,
     "metadata": {},
     "output_type": "execute_result"
    }
   ],
   "source": [
    "model.fit(x_train,y_train,epochs=5,batch_size=32,validation_data=(x_test,y_test))"
   ]
  },
  {
   "cell_type": "code",
   "execution_count": 21,
   "id": "da99ec1d",
   "metadata": {},
   "outputs": [
    {
     "name": "stdout",
     "output_type": "stream",
     "text": [
      "65/65 [==============================] - 0s 2ms/step - loss: 0.0934 - accuracy: 0.9830\n",
      "Test Loss :  0.09336647391319275\n",
      "Test Accuracy :  0.9830344319343567\n"
     ]
    }
   ],
   "source": [
    "# Evaluate the Model on the Test Data\n",
    "test_loss , test_acc = model.evaluate(x_test,y_test)\n",
    "print(\"Test Loss : \",test_loss)\n",
    "print(\"Test Accuracy : \",test_acc)"
   ]
  },
  {
   "cell_type": "code",
   "execution_count": 22,
   "id": "57ca541e",
   "metadata": {},
   "outputs": [],
   "source": [
    "# Save the Model\n",
    "model.save('senti.keras')"
   ]
  },
  {
   "cell_type": "code",
   "execution_count": 23,
   "id": "0519cd0a",
   "metadata": {},
   "outputs": [
    {
     "data": {
      "text/plain": [
       "<keras.src.engine.sequential.Sequential at 0x1a0ba490040>"
      ]
     },
     "execution_count": 23,
     "metadata": {},
     "output_type": "execute_result"
    }
   ],
   "source": [
    "# Load the Saved Model\n",
    "loaded_model = keras.models.load_model('senti.keras')\n",
    "loaded_model"
   ]
  },
  {
   "cell_type": "code",
   "execution_count": null,
   "id": "5d83cc3d",
   "metadata": {},
   "outputs": [],
   "source": []
  }
 ],
 "metadata": {
  "kernelspec": {
   "display_name": "Python 3 (ipykernel)",
   "language": "python",
   "name": "python3"
  },
  "language_info": {
   "codemirror_mode": {
    "name": "ipython",
    "version": 3
   },
   "file_extension": ".py",
   "mimetype": "text/x-python",
   "name": "python",
   "nbconvert_exporter": "python",
   "pygments_lexer": "ipython3",
   "version": "3.9.17"
  }
 },
 "nbformat": 4,
 "nbformat_minor": 5
}
