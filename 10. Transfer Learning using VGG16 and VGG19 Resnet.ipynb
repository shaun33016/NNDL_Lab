{
 "cells": [
  {
   "cell_type": "markdown",
   "id": "c6e10743",
   "metadata": {},
   "source": [
    "# 10. Transfer Learning using VGG16 and VGG19 Resnet"
   ]
  },
  {
   "cell_type": "code",
   "execution_count": 1,
   "id": "2d348efe",
   "metadata": {},
   "outputs": [],
   "source": [
    "import numpy as np\n",
    "from tensorflow.keras import layers\n",
    "from tensorflow.keras.applications import VGG16, VGG19, ResNet50\n",
    "from tensorflow.keras.datasets import cifar10\n",
    "from tensorflow.keras.utils import to_categorical"
   ]
  },
  {
   "cell_type": "code",
   "execution_count": 2,
   "id": "36470f1b",
   "metadata": {},
   "outputs": [
    {
     "name": "stdout",
     "output_type": "stream",
     "text": [
      "Requirement already satisfied: keras in c:\\users\\student\\appdata\\roaming\\python\\python39\\site-packages (2.14.0)\n"
     ]
    }
   ],
   "source": [
    "!pip install keras"
   ]
  },
  {
   "cell_type": "code",
   "execution_count": 3,
   "id": "6b82837d",
   "metadata": {},
   "outputs": [],
   "source": [
    "# Load the cifar dataset\n",
    "(x_train, y_train), (x_test, y_test) = cifar10.load_data()\n",
    "\n",
    "# Preprocess the data\n",
    "x_train = x_train.astype(\"float32\") / 255.0\n",
    "x_test = x_test.astype(\"float32\") / 255.0\n",
    "\n",
    "# Categorical encoding\n",
    "y_train = to_categorical(y_train, 10)\n",
    "y_test = to_categorical(y_test, 10)"
   ]
  },
  {
   "cell_type": "code",
   "execution_count": 4,
   "id": "00a72a6d",
   "metadata": {},
   "outputs": [],
   "source": [
    "# Define the pre-trained models\n",
    "vgg16 = VGG16(weights=\"imagenet\", include_top=False, input_shape=(32, 32, 3))\n",
    "vgg19 = VGG19(weights=\"imagenet\", include_top=False, input_shape=(32, 32, 3))\n",
    "resnet = ResNet50(weights=\"imagenet\", include_top=False, input_shape=(32, 32, 3))"
   ]
  },
  {
   "cell_type": "code",
   "execution_count": 8,
   "id": "f240e2e7",
   "metadata": {},
   "outputs": [],
   "source": [
    "# define the output layers\n",
    "vgg16_output = layers.GlobalAveragePooling2D()(vgg16.output)\n",
    "vgg16_output = layers.Dense(10, activation=\"softmax\")(vgg16_output)\n",
    "\n",
    "vgg19_output = layers.GlobalAveragePooling2D()(vgg19.output)\n",
    "vgg19_output = layers.Dense(10, activation=\"softmax\")(vgg19_output)\n",
    "\n",
    "resnet_output = layers.GlobalAveragePooling2D()(resnet.output)\n",
    "resnet_output = layers.Dense(10, activation=\"softmax\")(resnet_output)"
   ]
  },
  {
   "cell_type": "code",
   "execution_count": 10,
   "id": "4788ab5e",
   "metadata": {},
   "outputs": [],
   "source": [
    "# Define the complete models\n",
    "vgg16_model = keras.Model(inputs=vgg16.input, outputs=vgg16_output)\n",
    "vgg19_model = keras.Model(inputs=vgg19.input, outputs=vgg19_output)\n",
    "resnet_model = keras.Model(inputs=resnet.input, outputs=resnet_output)"
   ]
  },
  {
   "cell_type": "code",
   "execution_count": 11,
   "id": "b5ae7f95",
   "metadata": {},
   "outputs": [
    {
     "name": "stdout",
     "output_type": "stream",
     "text": [
      "VGG16 Test Accuracy:  [2.651444911956787, 0.09229999780654907]\n",
      "VGG19 Test Accuracy:  [2.5827372074127197, 0.10080000013113022]\n",
      "ResNet50 Test Accuracy:  [2.74227237701416, 0.09629999846220016]\n"
     ]
    }
   ],
   "source": [
    "# Compile the models\n",
    "vgg16_model.compile(loss=\"categorical_crossentropy\", optimizer=\"adam\", metrics=[\"accuracy\"])\n",
    "vgg19_model.compile(loss=\"categorical_crossentropy\", optimizer=\"adam\", metrics=[\"accuracy\"])\n",
    "resnet_model.compile(loss=\"categorical_crossentropy\", optimizer=\"adam\", metrics=[\"accuracy\"])\n",
    "\n",
    "#Evaluate the models\n",
    "vgg16_accuracy = vgg16_model.evaluate(x_test, y_test, verbose=0)\n",
    "vgg19_accuracy = vgg19_model.evaluate(x_test, y_test, verbose=0)\n",
    "resnet_accuracy = resnet_model.evaluate(x_test, y_test, verbose=0)\n",
    "\n",
    "# Print the results\n",
    "print(\"VGG16 Test Accuracy: \", vgg16_accuracy)\n",
    "print(\"VGG19 Test Accuracy: \", vgg19_accuracy)\n",
    "print(\"ResNet50 Test Accuracy: \", resnet_accuracy)"
   ]
  },
  {
   "cell_type": "code",
   "execution_count": null,
   "id": "0fe97fe0",
   "metadata": {},
   "outputs": [],
   "source": []
  }
 ],
 "metadata": {
  "kernelspec": {
   "display_name": "Python 3 (ipykernel)",
   "language": "python",
   "name": "python3"
  },
  "language_info": {
   "codemirror_mode": {
    "name": "ipython",
    "version": 3
   },
   "file_extension": ".py",
   "mimetype": "text/x-python",
   "name": "python",
   "nbconvert_exporter": "python",
   "pygments_lexer": "ipython3",
   "version": "3.9.17"
  }
 },
 "nbformat": 4,
 "nbformat_minor": 5
}
