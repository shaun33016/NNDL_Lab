{
 "cells": [
  {
   "cell_type": "code",
   "execution_count": 1,
   "id": "f0cda9ab",
   "metadata": {},
   "outputs": [],
   "source": [
    "from sklearn import datasets\n",
    "from sklearn.model_selection import train_test_split\n",
    "from keras.utils import to_categorical\n",
    "from keras.models import Sequential\n",
    "from keras.layers import Conv2D , MaxPooling2D,Flatten,Dense\n",
    "from keras.callbacks import EarlyStopping , ModelCheckpoint\n",
    "import matplotlib.pyplot as plt"
   ]
  },
  {
   "cell_type": "code",
   "execution_count": 2,
   "id": "1c4d3c9f",
   "metadata": {},
   "outputs": [],
   "source": [
    "# Loading the Dataset\n",
    "data = datasets.load_digits()\n",
    "x = data.images\n",
    "y = data.target"
   ]
  },
  {
   "cell_type": "code",
   "execution_count": 3,
   "id": "bd393f18",
   "metadata": {},
   "outputs": [],
   "source": [
    "# Preprocess the Data\n",
    "x = x.reshape((x.shape[0],8,8,1))  # (Number of Samples , Dimension , Channel)\n",
    "x = x.astype('float32') / 255\n",
    "y = to_categorical(y)"
   ]
  },
  {
   "cell_type": "code",
   "execution_count": 4,
   "id": "05cbef90",
   "metadata": {},
   "outputs": [],
   "source": [
    "# Splitting the Data into Training and Test Sets\n",
    "x_train , x_test , y_train , y_test = train_test_split(x,y,test_size=0.2)"
   ]
  },
  {
   "cell_type": "code",
   "execution_count": 5,
   "id": "a83491c0",
   "metadata": {},
   "outputs": [],
   "source": [
    "# Creating the Model\n",
    "model = Sequential()\n",
    "model.add(Conv2D(32 , kernel_size=(3,3) , activation='relu' , input_shape=(8,8,1)))\n",
    "model.add(MaxPooling2D(pool_size=(2,2)))\n",
    "model.add(Flatten())\n",
    "model.add(Dense(64 , activation='relu'))\n",
    "model.add(Dense(10 , activation='softmax'))"
   ]
  },
  {
   "cell_type": "code",
   "execution_count": 6,
   "id": "122603c3",
   "metadata": {},
   "outputs": [],
   "source": [
    "# Compile the Model\n",
    "model.compile(optimizer='adam' , loss='categorical_crossentropy' , metrics=['accuracy'])"
   ]
  },
  {
   "cell_type": "code",
   "execution_count": 7,
   "id": "cb1e0d83",
   "metadata": {},
   "outputs": [],
   "source": [
    "# Define Early Stopping and Model Checkpoint\n",
    "earlystop = EarlyStopping(monitor='val_loss' , patience=10)\n",
    "best_weights = ModelCheckpoint('best_weights.h5' , save_best_only=True , monitor='val_loss' , mode='min')"
   ]
  },
  {
   "cell_type": "code",
   "execution_count": 8,
   "id": "474b5b23",
   "metadata": {},
   "outputs": [
    {
     "name": "stdout",
     "output_type": "stream",
     "text": [
      "Epoch 1/50\n",
      "45/45 [==============================] - 1s 5ms/step - loss: 2.2841 - accuracy: 0.2303 - val_loss: 2.2538 - val_accuracy: 0.4083\n",
      "Epoch 2/50\n",
      "45/45 [==============================] - 0s 2ms/step - loss: 2.1939 - accuracy: 0.4941 - val_loss: 2.1040 - val_accuracy: 0.6611\n",
      "Epoch 3/50\n",
      " 1/45 [..............................] - ETA: 0s - loss: 2.1069 - accuracy: 0.6250"
     ]
    },
    {
     "name": "stderr",
     "output_type": "stream",
     "text": [
      "C:\\Users\\Student\\.conda\\envs\\AI045_NNDL\\lib\\site-packages\\keras\\src\\engine\\training.py:3000: UserWarning: You are saving your model as an HDF5 file via `model.save()`. This file format is considered legacy. We recommend using instead the native Keras format, e.g. `model.save('my_model.keras')`.\n",
      "  saving_api.save_model(\n"
     ]
    },
    {
     "name": "stdout",
     "output_type": "stream",
     "text": [
      "45/45 [==============================] - 0s 2ms/step - loss: 1.9569 - accuracy: 0.6409 - val_loss: 1.7816 - val_accuracy: 0.6944\n",
      "Epoch 4/50\n",
      "45/45 [==============================] - 0s 2ms/step - loss: 1.5647 - accuracy: 0.7404 - val_loss: 1.3692 - val_accuracy: 0.7139\n",
      "Epoch 5/50\n",
      "45/45 [==============================] - 0s 2ms/step - loss: 1.1713 - accuracy: 0.7745 - val_loss: 1.0112 - val_accuracy: 0.7833\n",
      "Epoch 6/50\n",
      "45/45 [==============================] - 0s 2ms/step - loss: 0.8736 - accuracy: 0.8427 - val_loss: 0.7936 - val_accuracy: 0.8167\n",
      "Epoch 7/50\n",
      "45/45 [==============================] - 0s 2ms/step - loss: 0.6856 - accuracy: 0.8657 - val_loss: 0.6608 - val_accuracy: 0.8583\n",
      "Epoch 8/50\n",
      "45/45 [==============================] - 0s 2ms/step - loss: 0.5722 - accuracy: 0.8727 - val_loss: 0.5818 - val_accuracy: 0.8556\n",
      "Epoch 9/50\n",
      "45/45 [==============================] - 0s 2ms/step - loss: 0.4916 - accuracy: 0.8845 - val_loss: 0.5264 - val_accuracy: 0.8611\n",
      "Epoch 10/50\n",
      "45/45 [==============================] - 0s 2ms/step - loss: 0.4337 - accuracy: 0.8977 - val_loss: 0.4714 - val_accuracy: 0.8694\n",
      "Epoch 11/50\n",
      "45/45 [==============================] - 0s 2ms/step - loss: 0.3890 - accuracy: 0.9061 - val_loss: 0.4344 - val_accuracy: 0.8861\n",
      "Epoch 12/50\n",
      "45/45 [==============================] - 0s 2ms/step - loss: 0.3547 - accuracy: 0.9102 - val_loss: 0.4147 - val_accuracy: 0.9083\n",
      "Epoch 13/50\n",
      "45/45 [==============================] - 0s 2ms/step - loss: 0.3357 - accuracy: 0.9186 - val_loss: 0.3732 - val_accuracy: 0.9000\n",
      "Epoch 14/50\n",
      "45/45 [==============================] - 0s 2ms/step - loss: 0.3032 - accuracy: 0.9235 - val_loss: 0.3556 - val_accuracy: 0.9222\n",
      "Epoch 15/50\n",
      "45/45 [==============================] - 0s 2ms/step - loss: 0.2869 - accuracy: 0.9241 - val_loss: 0.3302 - val_accuracy: 0.9139\n",
      "Epoch 16/50\n",
      "45/45 [==============================] - 0s 2ms/step - loss: 0.2688 - accuracy: 0.9276 - val_loss: 0.3296 - val_accuracy: 0.9139\n",
      "Epoch 17/50\n",
      "45/45 [==============================] - 0s 2ms/step - loss: 0.2516 - accuracy: 0.9360 - val_loss: 0.3043 - val_accuracy: 0.9139\n",
      "Epoch 18/50\n",
      "45/45 [==============================] - 0s 2ms/step - loss: 0.2374 - accuracy: 0.9381 - val_loss: 0.2860 - val_accuracy: 0.9306\n",
      "Epoch 19/50\n",
      "45/45 [==============================] - 0s 2ms/step - loss: 0.2246 - accuracy: 0.9402 - val_loss: 0.2753 - val_accuracy: 0.9278\n",
      "Epoch 20/50\n",
      "45/45 [==============================] - 0s 2ms/step - loss: 0.2145 - accuracy: 0.9381 - val_loss: 0.2605 - val_accuracy: 0.9278\n",
      "Epoch 21/50\n",
      "45/45 [==============================] - 0s 2ms/step - loss: 0.2088 - accuracy: 0.9478 - val_loss: 0.2485 - val_accuracy: 0.9278\n",
      "Epoch 22/50\n",
      "45/45 [==============================] - 0s 2ms/step - loss: 0.1950 - accuracy: 0.9527 - val_loss: 0.2424 - val_accuracy: 0.9278\n",
      "Epoch 23/50\n",
      "45/45 [==============================] - 0s 2ms/step - loss: 0.1841 - accuracy: 0.9492 - val_loss: 0.2233 - val_accuracy: 0.9361\n",
      "Epoch 24/50\n",
      "45/45 [==============================] - 0s 2ms/step - loss: 0.1787 - accuracy: 0.9534 - val_loss: 0.2209 - val_accuracy: 0.9417\n",
      "Epoch 25/50\n",
      "45/45 [==============================] - 0s 2ms/step - loss: 0.1758 - accuracy: 0.9534 - val_loss: 0.2166 - val_accuracy: 0.9389\n",
      "Epoch 26/50\n",
      "45/45 [==============================] - 0s 2ms/step - loss: 0.1646 - accuracy: 0.9582 - val_loss: 0.1999 - val_accuracy: 0.9472\n",
      "Epoch 27/50\n",
      "45/45 [==============================] - 0s 2ms/step - loss: 0.1617 - accuracy: 0.9589 - val_loss: 0.2038 - val_accuracy: 0.9417\n",
      "Epoch 28/50\n",
      "45/45 [==============================] - 0s 2ms/step - loss: 0.1528 - accuracy: 0.9638 - val_loss: 0.1928 - val_accuracy: 0.9444\n",
      "Epoch 29/50\n",
      "45/45 [==============================] - 0s 2ms/step - loss: 0.1489 - accuracy: 0.9624 - val_loss: 0.1847 - val_accuracy: 0.9556\n",
      "Epoch 30/50\n",
      "45/45 [==============================] - 0s 2ms/step - loss: 0.1439 - accuracy: 0.9617 - val_loss: 0.1858 - val_accuracy: 0.9417\n",
      "Epoch 31/50\n",
      "45/45 [==============================] - 0s 2ms/step - loss: 0.1370 - accuracy: 0.9687 - val_loss: 0.1785 - val_accuracy: 0.9472\n",
      "Epoch 32/50\n",
      "45/45 [==============================] - 0s 2ms/step - loss: 0.1341 - accuracy: 0.9673 - val_loss: 0.1711 - val_accuracy: 0.9472\n",
      "Epoch 33/50\n",
      "45/45 [==============================] - 0s 2ms/step - loss: 0.1296 - accuracy: 0.9659 - val_loss: 0.1672 - val_accuracy: 0.9528\n",
      "Epoch 34/50\n",
      "45/45 [==============================] - 0s 2ms/step - loss: 0.1220 - accuracy: 0.9722 - val_loss: 0.1638 - val_accuracy: 0.9611\n",
      "Epoch 35/50\n",
      "45/45 [==============================] - 0s 2ms/step - loss: 0.1207 - accuracy: 0.9701 - val_loss: 0.1562 - val_accuracy: 0.9500\n",
      "Epoch 36/50\n",
      "45/45 [==============================] - 0s 2ms/step - loss: 0.1163 - accuracy: 0.9701 - val_loss: 0.1558 - val_accuracy: 0.9472\n",
      "Epoch 37/50\n",
      "45/45 [==============================] - 0s 2ms/step - loss: 0.1099 - accuracy: 0.9736 - val_loss: 0.1529 - val_accuracy: 0.9639\n",
      "Epoch 38/50\n",
      "45/45 [==============================] - 0s 2ms/step - loss: 0.1088 - accuracy: 0.9722 - val_loss: 0.1492 - val_accuracy: 0.9556\n",
      "Epoch 39/50\n",
      "45/45 [==============================] - 0s 2ms/step - loss: 0.1046 - accuracy: 0.9763 - val_loss: 0.1432 - val_accuracy: 0.9667\n",
      "Epoch 40/50\n",
      "45/45 [==============================] - 0s 2ms/step - loss: 0.1042 - accuracy: 0.9736 - val_loss: 0.1419 - val_accuracy: 0.9722\n",
      "Epoch 41/50\n",
      "45/45 [==============================] - 0s 2ms/step - loss: 0.0986 - accuracy: 0.9777 - val_loss: 0.1386 - val_accuracy: 0.9639\n",
      "Epoch 42/50\n",
      "45/45 [==============================] - 0s 2ms/step - loss: 0.0974 - accuracy: 0.9736 - val_loss: 0.1337 - val_accuracy: 0.9639\n",
      "Epoch 43/50\n",
      "45/45 [==============================] - 0s 2ms/step - loss: 0.0945 - accuracy: 0.9777 - val_loss: 0.1312 - val_accuracy: 0.9611\n",
      "Epoch 44/50\n",
      "45/45 [==============================] - 0s 2ms/step - loss: 0.0900 - accuracy: 0.9805 - val_loss: 0.1377 - val_accuracy: 0.9556\n",
      "Epoch 45/50\n",
      "45/45 [==============================] - 0s 2ms/step - loss: 0.0893 - accuracy: 0.9770 - val_loss: 0.1344 - val_accuracy: 0.9667\n",
      "Epoch 46/50\n",
      "45/45 [==============================] - 0s 1ms/step - loss: 0.0864 - accuracy: 0.9784 - val_loss: 0.1359 - val_accuracy: 0.9583\n",
      "Epoch 47/50\n",
      "45/45 [==============================] - 0s 2ms/step - loss: 0.0836 - accuracy: 0.9784 - val_loss: 0.1171 - val_accuracy: 0.9694\n",
      "Epoch 48/50\n",
      "45/45 [==============================] - 0s 2ms/step - loss: 0.0788 - accuracy: 0.9791 - val_loss: 0.1192 - val_accuracy: 0.9694\n",
      "Epoch 49/50\n",
      "45/45 [==============================] - 0s 2ms/step - loss: 0.0806 - accuracy: 0.9770 - val_loss: 0.1126 - val_accuracy: 0.9667\n",
      "Epoch 50/50\n",
      "45/45 [==============================] - 0s 2ms/step - loss: 0.0749 - accuracy: 0.9819 - val_loss: 0.1182 - val_accuracy: 0.9750\n"
     ]
    }
   ],
   "source": [
    "history = model.fit(x_train,y_train,epochs=50,batch_size=32,validation_data=(x_test,y_test),callbacks=[earlystop,best_weights])"
   ]
  },
  {
   "cell_type": "code",
   "execution_count": 9,
   "id": "97bcce70",
   "metadata": {},
   "outputs": [
    {
     "data": {
      "image/png": "[encoded data removed]",
      "text/plain": [
       "<Figure size 640x480 with 1 Axes>"
      ]
     },
     "metadata": {},
     "output_type": "display_data"
    }
   ],
   "source": [
    "# Plotting the Validation Loss and Accuracy \n",
    "plt.plot(history.history['val_loss'])\n",
    "plt.title('Validation Loss')\n",
    "plt.ylabel('Loss')\n",
    "plt.xlabel('Epoch')\n",
    "plt.show()"
   ]
  },
  {
   "cell_type": "code",
   "execution_count": 10,
   "id": "384d0a96",
   "metadata": {},
   "outputs": [
    {
     "data": {
      "image/png": "[encoded data removed]",
      "text/plain": [
       "<Figure size 640x480 with 1 Axes>"
      ]
     },
     "metadata": {},
     "output_type": "display_data"
    }
   ],
   "source": [
    "# Plotting the Validation Accuracy \n",
    "plt.plot(history.history['val_accuracy'])\n",
    "plt.title('Validation Accuracy')\n",
    "plt.ylabel('Accuracy')\n",
    "plt.xlabel('Epoch')\n",
    "plt.show()"
   ]
  },
  {
   "cell_type": "code",
   "execution_count": 11,
   "id": "29b23cb5",
   "metadata": {},
   "outputs": [
    {
     "data": {
      "text/plain": [
       "<tensorflow.python.checkpoint.checkpoint.CheckpointLoadStatus at 0x261bca52b50>"
      ]
     },
     "execution_count": 11,
     "metadata": {},
     "output_type": "execute_result"
    }
   ],
   "source": [
    "# Loading weights that yield the best validation accuracy\n",
    "model.load_weights('best_weights.b5')"
   ]
  },
  {
   "cell_type": "code",
   "execution_count": 12,
   "id": "89e4cf98",
   "metadata": {},
   "outputs": [
    {
     "name": "stdout",
     "output_type": "stream",
     "text": [
      "Test Loss :  0.1192333996295929\n",
      "Test Accuracy :  0.9750000238418579\n"
     ]
    }
   ],
   "source": [
    "# Evaluate the Model on the Dataset\n",
    "test_loss , test_acc = model.evaluate(x_test, y_test , verbose=0)\n",
    "print(\"Test Loss : \",test_loss)\n",
    "print(\"Test Accuracy : \",test_acc)"
   ]
  },
  {
   "cell_type": "code",
   "execution_count": null,
   "id": "469f44dc",
   "metadata": {},
   "outputs": [],
   "source": []
  }
 ],
 "metadata": {
  "kernelspec": {
   "display_name": "Python 3 (ipykernel)",
   "language": "python",
   "name": "python3"
  },
  "language_info": {
   "codemirror_mode": {
    "name": "ipython",
    "version": 3
   },
   "file_extension": ".py",
   "mimetype": "text/x-python",
   "name": "python",
   "nbconvert_exporter": "python",
   "pygments_lexer": "ipython3",
   "version": "3.9.17"
  }
 },
 "nbformat": 4,
 "nbformat_minor": 5
}
